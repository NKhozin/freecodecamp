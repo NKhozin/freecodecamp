{
 "cells": [
  {
   "cell_type": "code",
   "execution_count": 162,
   "metadata": {},
   "outputs": [],
   "source": [
    "import matplotlib.pyplot as plt\n",
    "import pandas as pd\n",
    "import seaborn as sns\n",
    "from pandas.plotting import register_matplotlib_converters\n",
    "register_matplotlib_converters()"
   ]
  },
  {
   "cell_type": "code",
   "execution_count": 163,
   "metadata": {},
   "outputs": [],
   "source": [
    "df = pd.read_csv('fcc-forum-pageviews.csv', index_col=0)"
   ]
  },
  {
   "cell_type": "code",
   "execution_count": 164,
   "metadata": {},
   "outputs": [],
   "source": [
    "df = df[df.value>df.value.quantile(0.025)]\n",
    "df = df[df.value<df.value.quantile(0.975)]"
   ]
  },
  {
   "cell_type": "code",
   "execution_count": 165,
   "metadata": {},
   "outputs": [],
   "source": [
    "def draw_line_plot():\n",
    "    plot = df.plot(color='red', title='Daily freeCodeCamp Forum Page Views 5/2016-12/2019',legend=False)\n",
    "    plot.set_xlabel(\"Date\")\n",
    "    plot.set_ylabel(\"Page Views\")\n",
    "    fig = plot.get_figure()\n",
    "    fig.savefig('line_plot.png')\n",
    "    return fig\n",
    "\n",
    "def draw_bar_plot():\n",
    "    df['year'] = pd.DatetimeIndex(df.index).year\n",
    "    df['month_num'] = pd.DatetimeIndex(df.index).month\n",
    "    df['month'] = pd.DatetimeIndex(df.index).month_name()\n",
    "    df_bar =  df.groupby(['year','month']).value.mean()\n",
    "    plot = df_bar.unstack().plot(kind='bar')\n",
    "    plot.set_xlabel(\"Years\")\n",
    "    plot.set_ylabel(\"Average Page Views\")\n",
    "    fig = plot.get_figure()\n",
    "    fig.savefig('bar_plot.png')\n",
    "    return fig\n",
    "\n",
    "def draw_box_plot():\n",
    "    df_box = df.copy()\n",
    "    df_box.reset_index(inplace=True)\n",
    "    df_box['year'] = [d.year for d in df_box.date]\n",
    "    df_box['month'] = [d.strftime('%b') for d in df_box.date]\n",
    "    fig, axes = plt.subplots(1, 2,figsize=(20,8))\n",
    "    sns.boxplot(x='year', y='value',data = df_bar, orient='v',ax=axes[0])\n",
    "    sns.boxplot(x='month', y='value',data = df_bar, orient='v', ax=axes[1])\n",
    "    plt.show()\n",
    "    fig.savefig('box_plot.png')\n",
    "    return fig"
   ]
  }
 ],
 "metadata": {
  "kernelspec": {
   "display_name": "Python 3",
   "language": "python",
   "name": "python3"
  },
  "language_info": {
   "codemirror_mode": {
    "name": "ipython",
    "version": 3
   },
   "file_extension": ".py",
   "mimetype": "text/x-python",
   "name": "python",
   "nbconvert_exporter": "python",
   "pygments_lexer": "ipython3",
   "version": "3.8.5"
  }
 },
 "nbformat": 4,
 "nbformat_minor": 4
}
