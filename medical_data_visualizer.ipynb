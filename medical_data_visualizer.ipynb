{
 "cells": [
  {
   "cell_type": "code",
   "execution_count": 1,
   "metadata": {},
   "outputs": [],
   "source": [
    "import pandas as pd\n",
    "import seaborn as sns\n",
    "import matplotlib.pyplot as plt\n",
    "import numpy as np"
   ]
  },
  {
   "cell_type": "code",
   "execution_count": 93,
   "metadata": {},
   "outputs": [],
   "source": [
    "df = pd.read_csv('medical_examination.csv')"
   ]
  },
  {
   "cell_type": "code",
   "execution_count": 97,
   "metadata": {},
   "outputs": [],
   "source": [
    "df = pd.read_csv('medical_examination.csv')\n",
    "df['bmi'] = df.weight / (df.height/100)**2\n",
    "df['overweight'] = np.where(df.bmi>25,1,0)\n",
    "df.cholesterol = np.where(df.cholesterol>1,1,0)\n",
    "df.gluc = np.where(df.gluc>1,1,0)\n",
    "\n",
    "\n",
    "# Draw Categorical Plot\n",
    "def draw_cat_plot():\n",
    "    df_cat = pd.melt(df, id_vars =['cardio'], value_vars = ['cholesterol', 'gluc', 'smoke', 'alco', 'active','overweight'])\n",
    "    df_cat = df_cat.groupby(['cardio','variable','value']).value.count().reset_index(name='total_cnt')\n",
    "    fig = sns.catplot(x=\"variable\", \n",
    "                    y=\"total_cnt\",\n",
    "                    hue='value',\n",
    "                    kind=\"bar\",\n",
    "                    col=\"cardio\",\n",
    "                    data=df_cat)\n",
    "    fig.savefig('catplot.png')\n",
    "    return fig\n",
    "\n",
    "\n",
    "# Draw Heat Map\n",
    "def draw_heat_map():\n",
    "    df = df.drop(['bmi'], axis=1)\n",
    "    df_heat = df[df['ap_lo'] <= df['ap_hi']]\n",
    "    df_heat =df[df['height'] >= df['height'].quantile(0.025)]\n",
    "    df_heat =df[df['height'] < df['height'].quantile(0.975)]\n",
    "    df_heat =df[df['weight'] >= df['weight'].quantile(0.025)]\n",
    "    df_heat =df[df['weight'] < df['weight'].quantile(0.975)]\n",
    "    corr = round(df_heat.corr(),1)\n",
    "    mask = np.triu(np.ones_like(df_heat.corr()))\n",
    "    fig = sns.heatmap(corr, annot=True, mask=mask)\n",
    "    fig.savefig('heatmap.png')\n",
    "    return fig"
   ]
  }
 ],
 "metadata": {
  "kernelspec": {
   "display_name": "Python 3",
   "language": "python",
   "name": "python3"
  },
  "language_info": {
   "codemirror_mode": {
    "name": "ipython",
    "version": 3
   },
   "file_extension": ".py",
   "mimetype": "text/x-python",
   "name": "python",
   "nbconvert_exporter": "python",
   "pygments_lexer": "ipython3",
   "version": "3.8.5"
  }
 },
 "nbformat": 4,
 "nbformat_minor": 4
}
